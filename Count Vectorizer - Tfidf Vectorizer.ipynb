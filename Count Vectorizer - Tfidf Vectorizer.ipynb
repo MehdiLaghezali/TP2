{
 "cells": [
  {
   "cell_type": "code",
   "execution_count": 1,
   "id": "87e8a6a8",
   "metadata": {},
   "outputs": [
    {
     "name": "stdout",
     "output_type": "stream",
     "text": [
      "['and', 'document', 'first', 'is', 'one', 'second', 'the', 'third', 'this']\n",
      "(4, 9)\n"
     ]
    }
   ],
   "source": [
    "from sklearn.feature_extraction.text import TfidfVectorizer,CountVectorizer\n",
    "\n",
    "corpus = ['This is the first document.','This document is the second document.','And this is the third one.','Is this the first document?']\n",
    "vectorizer = TfidfVectorizer()\n",
    "X = vectorizer.fit_transform(corpus)\n",
    "print(vectorizer.get_feature_names())\n",
    "print(X.shape)"
   ]
  },
  {
   "cell_type": "code",
   "execution_count": 2,
   "id": "08775035",
   "metadata": {},
   "outputs": [
    {
     "name": "stdout",
     "output_type": "stream",
     "text": [
      "[[1 1 1 1 0 1 0 0]\n",
      " [1 2 0 1 1 1 0 0]\n",
      " [1 0 0 1 0 1 1 1]\n",
      " [1 1 1 1 0 1 0 0]]\n",
      "[1.         1.22314355 1.51082562 1.         1.91629073 1.\n",
      " 1.91629073 1.91629073]\n",
      "(4, 8)\n"
     ]
    }
   ],
   "source": [
    "from sklearn.feature_extraction.text import TfidfTransformer\n",
    "from sklearn.feature_extraction.text import CountVectorizer\n",
    "from sklearn.pipeline import Pipeline\n",
    "vocabulary = ['this', 'document', 'first', 'is', 'second', 'the','and', 'one']\n",
    "pipe = Pipeline([('count', CountVectorizer(vocabulary=vocabulary)),('tfid', TfidfTransformer())]).fit(corpus)\n",
    "arr=pipe['count'].transform(corpus).toarray()\n",
    "print(arr)\n",
    "print(pipe['tfid'].idf_)\n",
    "print(pipe.transform(corpus).shape)"
   ]
  },
  {
   "cell_type": "code",
   "execution_count": null,
   "id": "8a43d4b6",
   "metadata": {},
   "outputs": [],
   "source": []
  }
 ],
 "metadata": {
  "kernelspec": {
   "display_name": "Python 3 (ipykernel)",
   "language": "python",
   "name": "python3"
  },
  "language_info": {
   "codemirror_mode": {
    "name": "ipython",
    "version": 3
   },
   "file_extension": ".py",
   "mimetype": "text/x-python",
   "name": "python",
   "nbconvert_exporter": "python",
   "pygments_lexer": "ipython3",
   "version": "3.8.0"
  }
 },
 "nbformat": 4,
 "nbformat_minor": 5
}
